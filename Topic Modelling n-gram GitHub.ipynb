{
 "cells": [
  {
   "cell_type": "code",
   "execution_count": 11,
   "metadata": {},
   "outputs": [
    {
     "name": "stdout",
     "output_type": "stream",
     "text": [
      "[nltk_data] Downloading package stopwords to\n",
      "[nltk_data]     C:\\Users\\mateen.ahmad\\AppData\\Roaming\\nltk_data...\n",
      "[nltk_data]   Package stopwords is already up-to-date!\n"
     ]
    }
   ],
   "source": [
    "import pandas as pd\n",
    "import numpy as np\n",
    "import re\n",
    "from sklearn.feature_extraction.text import CountVectorizer\n",
    "from sklearn.decomposition import LatentDirichletAllocation\n",
    "import nltk; nltk.download('stopwords')\n",
    "import string\n",
    "from collections import Counter\n",
    "from nltk import bigrams\n",
    "import nltk\n",
    "from nltk.corpus import stopwords\n",
    "\n",
    "stop_words = stopwords.words('english')\n",
    "stop_words.extend(['from', 'subject', 're', 'edu', 'use','com','|','ad','2019'])"
   ]
  },
  {
   "cell_type": "code",
   "execution_count": 12,
   "metadata": {
    "collapsed": true
   },
   "outputs": [],
   "source": [
    "documents=np.load(\"documents.npy\")\n"
   ]
  },
  {
   "cell_type": "code",
   "execution_count": 13,
   "metadata": {
    "collapsed": true
   },
   "outputs": [],
   "source": [
    "documents = [re.sub('\\s+', ' ', sent) for sent in documents]\n",
    "documents = [x.translate(str.maketrans(string.punctuation, ' '*len(string.punctuation))) for x in documents]\n",
    "documents = [re.sub(\" \\d+ \", \" \", sent) for sent in documents]\n",
    "cleaned_text=[]\n",
    "for each_doc in documents:\n",
    "    each_doc=' '.join(each_doc.split())\n",
    "    tmp= ' '.join([word for word in each_doc.split() if word not in stop_words])\n",
    "    cleaned_text.append(tmp)"
   ]
  },
  {
   "cell_type": "markdown",
   "metadata": {},
   "source": [
    "# Unigrams\n"
   ]
  },
  {
   "cell_type": "code",
   "execution_count": 18,
   "metadata": {
    "collapsed": true
   },
   "outputs": [],
   "source": [
    "number_of_clusters=15\n",
    "topics_for_each_cluster=10"
   ]
  },
  {
   "cell_type": "code",
   "execution_count": 19,
   "metadata": {},
   "outputs": [
    {
     "data": {
      "text/plain": [
       "LatentDirichletAllocation(batch_size=128, doc_topic_prior=None,\n",
       "                          evaluate_every=-1, learning_decay=0.7,\n",
       "                          learning_method='batch', learning_offset=10.0,\n",
       "                          max_doc_update_iter=100, max_iter=10,\n",
       "                          mean_change_tol=0.001, n_components=15, n_jobs=None,\n",
       "                          perp_tol=0.1, random_state=None,\n",
       "                          topic_word_prior=None, total_samples=1000000.0,\n",
       "                          verbose=0)"
      ]
     },
     "execution_count": 19,
     "metadata": {},
     "output_type": "execute_result"
    }
   ],
   "source": [
    "\n",
    "count_vect = CountVectorizer(max_df=0.8, min_df=2, stop_words='english')\n",
    "doc_term_matrix = count_vect.fit_transform(cleaned_text)\n",
    "LDA = LatentDirichletAllocation(n_components=number_of_clusters)\n",
    "LDA.fit(doc_term_matrix)"
   ]
  },
  {
   "cell_type": "code",
   "execution_count": 20,
   "metadata": {
    "collapsed": true,
    "scrolled": true
   },
   "outputs": [],
   "source": [
    "topic_labels=[]\n",
    "for each_topic in range(len(LDA.components_)):\n",
    "    first_topic =LDA.components_[each_topic]\n",
    "    top_topic_words = list(reversed(first_topic.argsort()[-topics_for_each_cluster:]))\n",
    "    tmp=[]\n",
    "    for i in top_topic_words:\n",
    "        #print(each_topic+1,' ',count_vect.get_feature_names()[i])\n",
    "        tmp.append(count_vect.get_feature_names()[i])\n",
    "    topic_labels.append(tmp)"
   ]
  },
  {
   "cell_type": "code",
   "execution_count": 22,
   "metadata": {
    "scrolled": true
   },
   "outputs": [
    {
     "data": {
      "text/plain": [
       "['definition',\n",
       " 'design',\n",
       " 'custom',\n",
       " 'equipment',\n",
       " 'necessary',\n",
       " 'london',\n",
       " 'brand',\n",
       " 'best',\n",
       " 'check',\n",
       " 'webster']"
      ]
     },
     "execution_count": 22,
     "metadata": {},
     "output_type": "execute_result"
    }
   ],
   "source": [
    "print(topic_labels[0])"
   ]
  },
  {
   "cell_type": "code",
   "execution_count": 23,
   "metadata": {
    "scrolled": true
   },
   "outputs": [
    {
     "name": "stdout",
     "output_type": "stream",
     "text": [
      "[['definition', 'design', 'custom', 'equipment', 'necessary', 'london', 'brand', 'best', 'check', 'webster'], ['room', 'new', 'company', 'living', 'ago', 'luxury', 'office', 'bed', 'perfect', 'days'], ['mattresses', 'home', 'recliners', 'tables', 'prices', 'chairs', 'sofas', 'day', 'modern', 'leather'], ['room', 'living', 'unique', 'designer', 'child', 'tampa', 'make', 'home', 'fiance', 'ago'], ['home', 'shop', 'stores', 'house', 'design', 'variety', 'buy', 'selection', 'related', 'materials'], ['pieces', 'home', 'ago', 'affordable', 'pet', 'hours', 'items', 'fit', 'tv', 'room'], ['room', 'living', 'shop', 'dining', 'ago', 'hours', 'designs', 'contemporary', 'store', 'owner'], ['home', 'room', 'online', 'best', 'bedroom', 'shop', 'living', 'buy', 'dining', 'store'], ['office', 'tables', 'chairs', 'hives', 'cabinets', 'desks', 'makers', 'nc', 'antiques', 'new'], ['home', 'office', 'variety', 'sale', 'store', 'group', 'global', 'pakistan', 'classics', 'stores'], ['trend', 'curved', 'ago', 'century', 'chairs', 'hours', 'design', 'making', 'mid', 'chaises'], ['room', 'living', 'rent', 'shop', 'items', 'bedroom', 'houston', 'sets', 'place', 'mattress'], ['shop', 'enjoy', 'free', 'stuff', 'style', 'ago', 'market', 'shipping', 'match', 'store'], ['room', 'living', 'office', 'sofas', 'dining', 'bedroom', 'home', 'tables', 'chairs', 'shop'], ['beds', 'shop', 'chairs', 'sofa', 'office', 'storage', '10', 'ad', 'day', 'ago']]\n"
     ]
    }
   ],
   "source": [
    "print(topic_labels)"
   ]
  },
  {
   "cell_type": "markdown",
   "metadata": {
    "collapsed": true
   },
   "source": [
    "# Bigram Model"
   ]
  },
  {
   "cell_type": "code",
   "execution_count": 24,
   "metadata": {
    "collapsed": true
   },
   "outputs": [],
   "source": [
    "cleaned_text=[]\n",
    "for each_doc in documents:\n",
    "    each_doc=' '.join(each_doc.split())\n",
    "    each_doc=each_doc.lower()\n",
    "    tmp= ' '.join([word for word in each_doc.split() if word not in stop_words])\n",
    "    cleaned_text.append(tmp)"
   ]
  },
  {
   "cell_type": "code",
   "execution_count": 25,
   "metadata": {
    "collapsed": true
   },
   "outputs": [],
   "source": [
    "word_tokens=[nltk.word_tokenize(word) for word in cleaned_text]"
   ]
  },
  {
   "cell_type": "code",
   "execution_count": 26,
   "metadata": {
    "collapsed": true
   },
   "outputs": [],
   "source": [
    "bigrams=[]\n",
    "tmp=[bigrams.extend(list(nltk.bigrams(tokens))) for tokens in word_tokens]"
   ]
  },
  {
   "cell_type": "code",
   "execution_count": 27,
   "metadata": {
    "collapsed": true
   },
   "outputs": [],
   "source": [
    "bigram_tokens=[x[0]+'_'+x[1] for x in bigrams]"
   ]
  },
  {
   "cell_type": "code",
   "execution_count": 31,
   "metadata": {
    "collapsed": true
   },
   "outputs": [],
   "source": [
    "number_of_clusters=15\n",
    "topics_for_each_cluster=10"
   ]
  },
  {
   "cell_type": "code",
   "execution_count": 29,
   "metadata": {},
   "outputs": [
    {
     "data": {
      "text/plain": [
       "LatentDirichletAllocation(batch_size=128, doc_topic_prior=None,\n",
       "                          evaluate_every=-1, learning_decay=0.7,\n",
       "                          learning_method='batch', learning_offset=10.0,\n",
       "                          max_doc_update_iter=100, max_iter=10,\n",
       "                          mean_change_tol=0.001, n_components=15, n_jobs=None,\n",
       "                          perp_tol=0.1, random_state=None,\n",
       "                          topic_word_prior=None, total_samples=1000000.0,\n",
       "                          verbose=0)"
      ]
     },
     "execution_count": 29,
     "metadata": {},
     "output_type": "execute_result"
    }
   ],
   "source": [
    "\n",
    "count_vect = CountVectorizer(max_df=0.8, min_df=2, stop_words='english')\n",
    "doc_term_matrix = count_vect.fit_transform(bigram_tokens)\n",
    "\n",
    "LDA = LatentDirichletAllocation(n_components=number_of_clusters)\n",
    "LDA.fit(doc_term_matrix)"
   ]
  },
  {
   "cell_type": "code",
   "execution_count": 32,
   "metadata": {},
   "outputs": [],
   "source": [
    "bigram_topic_labels=[]\n",
    "for each_topic in range(len(LDA.components_)):\n",
    "    first_topic =LDA.components_[each_topic]\n",
    "    top_topic_words = list(reversed(first_topic.argsort()[-topics_for_each_cluster:]))\n",
    "    tmp=[]\n",
    "    for i in top_topic_words:\n",
    "        #print(each_topic+1,' ',count_vect.get_feature_names()[i])\n",
    "        tmp.append(count_vect.get_feature_names()[i])\n",
    "    bigram_topic_labels.append(tmp)"
   ]
  },
  {
   "cell_type": "code",
   "execution_count": 33,
   "metadata": {
    "collapsed": true
   },
   "outputs": [],
   "source": [
    "all_bigram_topics=[]\n",
    "tmp=[all_bigram_topics.extend(x) for x in bigram_topic_labels]"
   ]
  },
  {
   "cell_type": "code",
   "execution_count": 36,
   "metadata": {},
   "outputs": [],
   "source": [
    "all_bigram_topics=[x.split('_')[0]+' '+x.split('_')[1]  for x in all_bigram_topics]"
   ]
  },
  {
   "cell_type": "code",
   "execution_count": 37,
   "metadata": {},
   "outputs": [
    {
     "data": {
      "text/plain": [
       "['bedroom furniture',\n",
       " 'shop furniture',\n",
       " 'luxury furniture',\n",
       " 'every style',\n",
       " 'room sets',\n",
       " 'room home',\n",
       " ' furniture',\n",
       " 'store online',\n",
       " 'tampa man',\n",
       " 'ago last',\n",
       " 'mid century',\n",
       " 'trend making',\n",
       " 'days ago',\n",
       " 'chairs bold',\n",
       " 'store owner',\n",
       " 'file cabinets',\n",
       " 'ruckers furniture',\n",
       " 'furniture sofas',\n",
       " 'clearance furniture',\n",
       " 'buy wooden',\n",
       " 'victorian chaises',\n",
       " 'city furniture',\n",
       " 'modern contemporary',\n",
       " 'home décor',\n",
       " 'designer furniture',\n",
       " ' dining',\n",
       " 'latest pet',\n",
       " 'variety styles',\n",
       " 'great selection',\n",
       " 'top home',\n",
       " 'furniture stores',\n",
       " 'houston furniture',\n",
       " 'home furnishings',\n",
       " 'home decor',\n",
       " 'furniture dining',\n",
       " 'ballard designs',\n",
       " 'furniture every',\n",
       " 'riad leather',\n",
       " 'day ago',\n",
       " 'stuff even',\n",
       " 'furniture furniture',\n",
       " 'selection furniture',\n",
       " 'furniture next',\n",
       " 'furniture around',\n",
       " 'furniture office',\n",
       " 'furniture living',\n",
       " 'new furniture',\n",
       " 'vintage furniture',\n",
       " 'west elm',\n",
       " 'shipping stuff',\n",
       " 'room furniture',\n",
       " 'dining room',\n",
       " 'room dining',\n",
       " 'furniture items',\n",
       " 'dining tables',\n",
       " 'new york',\n",
       " 'sofas dining',\n",
       " 'top picks',\n",
       " 'barry furniture',\n",
       " 'large items',\n",
       " 'office furniture',\n",
       " 'next design',\n",
       " 'room bedroom',\n",
       " 'home office',\n",
       " 'making waves',\n",
       " 'bedroom dining',\n",
       " 'furniture rental',\n",
       " 'antique furniture',\n",
       " 'furniture pieces',\n",
       " 'sofas chairs',\n",
       " 'decades victorian',\n",
       " 'ago curved',\n",
       " 'enjoy free',\n",
       " 'rent furniture',\n",
       " 'wide selection',\n",
       " 'unique furniture',\n",
       " 'popular furniture',\n",
       " 'financing available',\n",
       " 'stores miami',\n",
       " 'content offer',\n",
       " 'living room',\n",
       " 'curved furniture',\n",
       " 'furniture online',\n",
       " 'online furniture',\n",
       " 'affordable furniture',\n",
       " 'furniture make',\n",
       " 'big stuff',\n",
       " 'whether looking',\n",
       " 'miami fort',\n",
       " 'value city',\n",
       " 'shop living',\n",
       " 'best furniture',\n",
       " 'furniture bedroom',\n",
       " 'mealey furniture',\n",
       " 'find perfect',\n",
       " 'mins ago',\n",
       " 'furniture selection',\n",
       " 'make home',\n",
       " 'pet furniture',\n",
       " 'owner jim',\n",
       " 'home furniture',\n",
       " 'furniture mattresses',\n",
       " 'century chairs',\n",
       " 'furniture products',\n",
       " 'furniture best',\n",
       " 'tables ',\n",
       " 'nc furniture',\n",
       " 'furniture including',\n",
       " 'budget enjoy',\n",
       " 'shop best',\n",
       " 'furniture shop',\n",
       " 'bold trend',\n",
       " 'around decades',\n",
       " 'chaises mid',\n",
       " 'contemporary furniture',\n",
       " 'furniture sets',\n",
       " 'furniture match',\n",
       " 'furniture definition',\n",
       " 'pieces fit',\n",
       " 'room ',\n",
       " 'hours ago',\n",
       " 'cool curved',\n",
       " 'every room',\n",
       " 'furniture ',\n",
       " 'rooms ',\n",
       " 'living dining',\n",
       " 'furniture makers',\n",
       " 'upholstered furniture',\n",
       " 'gallery furniture',\n",
       " 'furniture hsn',\n",
       " 'free shipping',\n",
       " 'furniture 10',\n",
       " 'pottery barn',\n",
       " 'buy furniture',\n",
       " '5 million',\n",
       " 'furniture brand',\n",
       " 'furniture results',\n",
       " 'coffee tables',\n",
       " 'marmol radziner',\n",
       " 'even big',\n",
       " 'furniture home',\n",
       " 'furniture store',\n",
       " 'furniture sale',\n",
       " 'modern furniture',\n",
       " 'design trend',\n",
       " 'bedroom living',\n",
       " 'match every',\n",
       " 'quality furniture',\n",
       " 'furniture company',\n",
       " 'page learn']"
      ]
     },
     "execution_count": 37,
     "metadata": {},
     "output_type": "execute_result"
    }
   ],
   "source": [
    "all_bigram_topics"
   ]
  },
  {
   "cell_type": "markdown",
   "metadata": {},
   "source": [
    "# Trigram"
   ]
  },
  {
   "cell_type": "code",
   "execution_count": 39,
   "metadata": {
    "scrolled": true
   },
   "outputs": [],
   "source": [
    "trigrams=[]\n",
    "tmp=[trigrams.extend(list(nltk.trigrams(tokens))) for tokens in word_tokens]"
   ]
  },
  {
   "cell_type": "code",
   "execution_count": 40,
   "metadata": {
    "collapsed": true
   },
   "outputs": [],
   "source": [
    "trigrams_tokens=[x[0]+'_'+x[1]+'_'+x[2] for x in trigrams]\n",
    "count_vect = CountVectorizer(max_df=0.8, min_df=2, stop_words='english')\n",
    "doc_term_matrix = count_vect.fit_transform(trigrams_tokens)\n",
    "LDA = LatentDirichletAllocation(n_components=15)\n",
    "LDA.fit(doc_term_matrix)\n",
    "trigrams_topic_labels=[]\n",
    "for each_topic in range(len(LDA.components_)):\n",
    "    first_topic =LDA.components_[each_topic]\n",
    "    top_topic_words = first_topic.argsort()[-10:]\n",
    "    tmp=[]\n",
    "    for i in top_topic_words:\n",
    "        #print(each_topic+1,' ',count_vect.get_feature_names()[i])\n",
    "        tmp.append(count_vect.get_feature_names()[i])\n",
    "    trigrams_topic_labels.append(tmp)"
   ]
  },
  {
   "cell_type": "code",
   "execution_count": 42,
   "metadata": {
    "collapsed": true,
    "scrolled": true
   },
   "outputs": [],
   "source": [
    "all_trigram_topics=[]\n",
    "tmp=[all_trigram_topics.extend(x) for x in trigrams_topic_labels]"
   ]
  },
  {
   "cell_type": "code",
   "execution_count": 43,
   "metadata": {
    "collapsed": true
   },
   "outputs": [],
   "source": [
    "all_trigram_topics=[x.split('_')[0]+' '+x.split('_')[1]+' '+x.split('_')[2]  for x in all_trigram_topics if len(x.split('_'))>2]"
   ]
  },
  {
   "cell_type": "code",
   "execution_count": 44,
   "metadata": {},
   "outputs": [
    {
     "data": {
      "text/plain": [
       "['office furniture market',\n",
       " 'store pakistan upto',\n",
       " 'stuff even big',\n",
       " 'living room sets',\n",
       " 'shipping stuff even',\n",
       " 'home furniture sale',\n",
       " 'living room bedroom',\n",
       " 'bedroom living room',\n",
       " 'furniture living room',\n",
       " 'bentley fri 6',\n",
       " 'furniture edible bohemian',\n",
       " 'furniture furniture stores',\n",
       " 'online buy wooden',\n",
       " 'colonies ones struggling',\n",
       " 'dining room bedroom',\n",
       " 'stores miami fort',\n",
       " 'budget enjoy free',\n",
       " 'next design trend',\n",
       " 'ago curved furniture',\n",
       " 'dining room got',\n",
       " 'requires flexible furniture',\n",
       " 'deputies mother fiance',\n",
       " 'sat 5 antiques',\n",
       " 'furniture office furniture',\n",
       " 'equipment necessary useful',\n",
       " 'perigold shop perigold',\n",
       " 'quality furniture great',\n",
       " 'companies content offer',\n",
       " 'room leather dining',\n",
       " 'bee hives honeybee',\n",
       " 'brazilian furniture maker',\n",
       " 'furniture pottery barn',\n",
       " 'furniture perigold shop',\n",
       " 'trend making waves',\n",
       " 'around decades victorian',\n",
       " 'office chairs desks',\n",
       " 'berk queer eye',\n",
       " 'brand furniture mattresses',\n",
       " 'upscale home furnishings',\n",
       " 'style budget enjoy',\n",
       " 'enjoy free shipping',\n",
       " 'living room dining',\n",
       " 'curved furniture around',\n",
       " 'furniture next design',\n",
       " 'chaises mid century',\n",
       " 'city furniture results',\n",
       " 'sherrill furniture company',\n",
       " 'hives honeybee colonies',\n",
       " '6 sat 5',\n",
       " 'bobby berk queer',\n",
       " 'furniture furniture rental',\n",
       " 'houston furniture store',\n",
       " 'shop living room',\n",
       " 'bedroom dining room',\n",
       " 'decades victorian chaises',\n",
       " 'time junk furniture',\n",
       " 'easy chair bed',\n",
       " 'chair bed items',\n",
       " '5 antiques furniture',\n",
       " 'online furniture store',\n",
       " 'mid century chairs',\n",
       " 'hours ago curved',\n",
       " 'cool curved furniture',\n",
       " 'furniture best buy',\n",
       " 'makers redesign hives',\n",
       " 'room furniture godwin',\n",
       " 'home décor furniture',\n",
       " 'makes 5 million',\n",
       " 'furniture merriam webster',\n",
       " 'room furniture sets',\n",
       " 'even big stuff',\n",
       " 'furniture store owner',\n",
       " 'space requires flexible',\n",
       " 'special financing available',\n",
       " 'ashley furniture homestore',\n",
       " 'upper class houses',\n",
       " 'home furniture furniture',\n",
       " 'furniture online home',\n",
       " 'furniture akron cleveland',\n",
       " 'free shipping stuff',\n",
       " 'furniture match every',\n",
       " 'home furniture home',\n",
       " 'chairs file cabinets',\n",
       " 'office furniture poppin',\n",
       " 'living room leather',\n",
       " 'value city furniture',\n",
       " 'furniture home furniture',\n",
       " 'chairs bold trend',\n",
       " 'living room furniture',\n",
       " 'office furniture rental',\n",
       " 'great deals living',\n",
       " 'joseon upper class',\n",
       " 'wide selection furniture',\n",
       " 'rent furniture furniture',\n",
       " 'furniture home décor',\n",
       " 'furniture stores miami',\n",
       " 'match every style',\n",
       " 'furniture around decades',\n",
       " 'find affordable furniture',\n",
       " 'flexible space requires',\n",
       " 'pakistan upto flash',\n",
       " 'nc furniture makers',\n",
       " 'ago last year',\n",
       " 'longer furniture companies',\n",
       " 'items one place',\n",
       " 'global furniture group',\n",
       " 'furniture pieces fit',\n",
       " 'century chairs bold',\n",
       " 'last year alice',\n",
       " 'selection living room',\n",
       " 'leather dining room',\n",
       " 'offer staples like',\n",
       " 'products home shopping',\n",
       " 'quality home furniture',\n",
       " 'furniture every room',\n",
       " 'latest pet furniture',\n",
       " 'room bedroom dining',\n",
       " 'every style budget',\n",
       " 'delivery large items',\n",
       " 'sofas dining tables',\n",
       " 'crown new york',\n",
       " 'super furniture sale',\n",
       " 'pet furniture pieces',\n",
       " 'home furniture online',\n",
       " 'modern contemporary furniture',\n",
       " 'room dining room',\n",
       " 'victorian chaises mid',\n",
       " 'knew something wrong',\n",
       " 'definition equipment necessary',\n",
       " 'buy wooden furniture',\n",
       " 'furniture home office',\n",
       " 'dining room furniture',\n",
       " 'home office furniture',\n",
       " 'bold trend making',\n",
       " 'curved furniture next']"
      ]
     },
     "execution_count": 44,
     "metadata": {},
     "output_type": "execute_result"
    }
   ],
   "source": [
    "all_trigram_topics"
   ]
  }
 ],
 "metadata": {
  "kernelspec": {
   "display_name": "Python 3",
   "language": "python",
   "name": "python3"
  },
  "language_info": {
   "codemirror_mode": {
    "name": "ipython",
    "version": 3
   },
   "file_extension": ".py",
   "mimetype": "text/x-python",
   "name": "python",
   "nbconvert_exporter": "python",
   "pygments_lexer": "ipython3",
   "version": "3.6.8"
  }
 },
 "nbformat": 4,
 "nbformat_minor": 2
}
